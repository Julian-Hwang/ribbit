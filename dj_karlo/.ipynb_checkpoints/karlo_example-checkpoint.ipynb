{
 "cells": [
  {
   "cell_type": "code",
   "execution_count": 10,
   "id": "7204bd51-1702-45e2-a53e-50b8ccfd9ee3",
   "metadata": {},
   "outputs": [],
   "source": [
    "import requests\n",
    "import json\n",
    "import urllib\n",
    "from PIL import Image"
   ]
  },
  {
   "cell_type": "code",
   "execution_count": 11,
   "id": "0a4b0bb5-65c6-4bf1-a52b-87ae398edbde",
   "metadata": {},
   "outputs": [],
   "source": [
    "REST_API_KEY = '472d2c640e9e91717a08a4de64af8974'"
   ]
  },
  {
   "cell_type": "code",
   "execution_count": 12,
   "id": "9f2cad9d-6f4b-4e71-8aa7-f83444c4102f",
   "metadata": {},
   "outputs": [],
   "source": [
    "def t2i(prompt, negative_prompt):\n",
    "    r = requests.post(\n",
    "        'https://api.kakaobrain.com/v2/inference/karlo/t2i',\n",
    "        json = {\n",
    "            'prompt': prompt,\n",
    "            'negative_prompt': negative_prompt\n",
    "        },\n",
    "        headers = {\n",
    "            'Authorization': f'KakaoAK {REST_API_KEY}',\n",
    "            'Content-Type': 'application/json'\n",
    "        }\n",
    "    )\n",
    "    # 응답 JSON 형식으로 변환\n",
    "    response = json.loads(r.content)\n",
    "    return response"
   ]
  },
  {
   "cell_type": "code",
   "execution_count": 41,
   "id": "18349878-4649-4e25-8aed-d3eb9459cbe1",
   "metadata": {},
   "outputs": [],
   "source": [
    "#prompt = \"A anime girl with blondy hair\"\n",
    "prompt = \"rage,2d, girl\"\n",
    "negative_prompt = \"sleeping cat, dog, human, ugly face, cropped\""
   ]
  },
  {
   "cell_type": "code",
   "execution_count": 42,
   "id": "bada59d3-4e8b-4000-a0ce-47743b59d4d5",
   "metadata": {},
   "outputs": [],
   "source": [
    "response = t2i(prompt, negative_prompt)"
   ]
  },
  {
   "cell_type": "code",
   "execution_count": 43,
   "id": "9967818a-28ac-4383-8b7e-ea8bde5419b6",
   "metadata": {},
   "outputs": [],
   "source": [
    "result = Image.open(urllib.request.urlopen(response.get(\"images\")[0].get(\"image\")))\n",
    "result.show()"
   ]
  },
  {
   "cell_type": "code",
   "execution_count": null,
   "id": "60cf8db7-0e45-4d96-a92d-4ce54879753d",
   "metadata": {},
   "outputs": [],
   "source": []
  }
 ],
 "metadata": {
  "kernelspec": {
   "display_name": "Python 3 (ipykernel)",
   "language": "python",
   "name": "python3"
  },
  "language_info": {
   "codemirror_mode": {
    "name": "ipython",
    "version": 3
   },
   "file_extension": ".py",
   "mimetype": "text/x-python",
   "name": "python",
   "nbconvert_exporter": "python",
   "pygments_lexer": "ipython3",
   "version": "3.9.16"
  }
 },
 "nbformat": 4,
 "nbformat_minor": 5
}
